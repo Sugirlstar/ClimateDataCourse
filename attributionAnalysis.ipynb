{
 "cells": [
  {
   "cell_type": "code",
   "execution_count": 1,
   "id": "e3b803e6",
   "metadata": {},
   "outputs": [
    {
     "name": "stderr",
     "output_type": "stream",
     "text": [
      "Installing package into 'C:/Users/35953/AppData/Local/R/win-library/4.2'\n",
      "(as 'lib' is unspecified)\n",
      "\n"
     ]
    },
    {
     "name": "stdout",
     "output_type": "stream",
     "text": [
      "package 'ncdf4' successfully unpacked and MD5 sums checked\n"
     ]
    },
    {
     "name": "stderr",
     "output_type": "stream",
     "text": [
      "Warning message:\n",
      "\"cannot remove prior installation of package 'ncdf4'\"\n",
      "Warning message in file.copy(savedcopy, lib, recursive = TRUE):\n",
      "\"problem copying C:\\Users\\35953\\AppData\\Local\\R\\win-library\\4.2\\00LOCK\\ncdf4\\libs\\x64\\ncdf4.dll to C:\\Users\\35953\\AppData\\Local\\R\\win-library\\4.2\\ncdf4\\libs\\x64\\ncdf4.dll: Permission denied\"\n",
      "Warning message:\n",
      "\"restored 'ncdf4'\"\n"
     ]
    },
    {
     "name": "stdout",
     "output_type": "stream",
     "text": [
      "\n",
      "The downloaded binary packages are in\n",
      "\tC:\\Users\\35953\\AppData\\Local\\Temp\\RtmpYVCvI7\\downloaded_packages\n"
     ]
    },
    {
     "name": "stderr",
     "output_type": "stream",
     "text": [
      "Installing package into 'C:/Users/35953/AppData/Local/R/win-library/4.2'\n",
      "(as 'lib' is unspecified)\n",
      "\n"
     ]
    },
    {
     "name": "stdout",
     "output_type": "stream",
     "text": [
      "package 'corrplot' successfully unpacked and MD5 sums checked\n",
      "\n",
      "The downloaded binary packages are in\n",
      "\tC:\\Users\\35953\\AppData\\Local\\Temp\\RtmpYVCvI7\\downloaded_packages\n"
     ]
    },
    {
     "name": "stderr",
     "output_type": "stream",
     "text": [
      "Installing package into 'C:/Users/35953/AppData/Local/R/win-library/4.2'\n",
      "(as 'lib' is unspecified)\n",
      "\n"
     ]
    },
    {
     "name": "stdout",
     "output_type": "stream",
     "text": [
      "package 'lavaan' successfully unpacked and MD5 sums checked\n",
      "\n",
      "The downloaded binary packages are in\n",
      "\tC:\\Users\\35953\\AppData\\Local\\Temp\\RtmpYVCvI7\\downloaded_packages\n"
     ]
    }
   ],
   "source": [
    "# run for the first time only\n",
    "install.packages(\"ncdf4\")\n",
    "install.packages(\"corrplot\")\n",
    "install.packages(\"lavaan\")"
   ]
  },
  {
   "cell_type": "code",
   "execution_count": 2,
   "id": "65809f23",
   "metadata": {},
   "outputs": [
    {
     "name": "stderr",
     "output_type": "stream",
     "text": [
      "Warning message:\n",
      "\"package 'ncdf4' was built under R version 4.2.3\"\n",
      "Warning message:\n",
      "\"package 'corrplot' was built under R version 4.2.3\"\n",
      "corrplot 0.92 loaded\n",
      "\n",
      "Warning message:\n",
      "\"package 'lavaan' was built under R version 4.2.3\"\n",
      "This is lavaan 0.6-17\n",
      "lavaan is FREE software! Please report any bugs.\n",
      "\n"
     ]
    }
   ],
   "source": [
    "# load libraries\n",
    "library(ncdf4)\n",
    "library(corrplot)\n",
    "library(lavaan)"
   ]
  },
  {
   "cell_type": "code",
   "execution_count": 3,
   "id": "e2364a9d",
   "metadata": {},
   "outputs": [
    {
     "name": "stdout",
     "output_type": "stream",
     "text": [
      "          TA            PR       RN         CC\n",
      "1   288.5155  2.524465e-05 14014983 0.14679531\n",
      "2   292.9096  8.583182e-05 16992369 0.11235520\n",
      "3   298.5203  8.835629e-05 19159386 0.25279868\n",
      "4   302.9333  3.875054e-04 21244954 0.14621929\n",
      "5   306.9348  5.377111e-04 20419777 0.17950735\n",
      "6   302.0649  1.027836e-02 13670268 0.73194364\n",
      "7   299.3566  1.250494e-02  8124794 0.93383967\n",
      "8   300.2194  7.337359e-03 11746361 0.82918540\n",
      "9   301.2176  1.144845e-03 16762010 0.36471387\n",
      "10  298.0945  2.861482e-03 14734442 0.28695078\n",
      "11  293.4419  1.388456e-05 14645178 0.05397983\n",
      "12  290.0970 -6.938894e-18 13529996 0.11147601\n",
      "13  288.7162  1.539924e-04 13487626 0.16712285\n",
      "14  293.2334  5.036308e-04 15771056 0.18993639\n",
      "15  298.9773  5.301377e-05 19311587 0.23015189\n",
      "16  304.9141  1.085520e-04 21493824 0.15314672\n",
      "17  308.4953  2.600199e-04 21257706 0.11846408\n",
      "18  304.9152  3.107617e-03 17415241 0.52478761\n",
      "19  303.5111  2.891775e-03 15379447 0.79231993\n",
      "20  299.4276  1.468860e-02  8648037 0.93594670\n",
      "21  299.5340  4.581905e-03 14694130 0.45775673\n",
      "22  298.1189  2.354064e-03 16559212 0.10031936\n",
      "23  293.5917  6.942280e-04 14459246 0.12222338\n",
      "24  291.3691  1.678769e-04 12801075 0.14296021\n",
      "25  287.6737  6.816057e-05 14205852 0.14975122\n",
      "26  292.6556  1.984230e-03 14644356 0.28451026\n",
      "27  297.8438  6.689833e-05 19417716 0.15730015\n",
      "28  304.6967  2.120551e-04 21104682 0.19430204\n",
      "29  307.3552  1.514679e-05 21927803 0.15777006\n",
      "30  306.4069  3.361326e-03 16898991 0.50439943\n",
      "31  300.9315  1.125533e-02 11640232 0.91366371\n",
      "32  299.7392  1.027331e-02  9346518 0.88477161\n",
      "33  298.4028  1.389340e-02  7436598 0.94911943\n",
      "34  297.5909  1.640903e-04 16115360 0.18822348\n",
      "35  294.1539 -6.938894e-18 14006756 0.11841860\n",
      "36  290.1491  1.716636e-04 12792848 0.18413069\n",
      "37  288.7927  7.750109e-04 13416873 0.21365944\n",
      "38  292.8042 -6.938894e-18 17124414 0.05273683\n",
      "39  300.7973 -6.938894e-18 19884193 0.08754074\n",
      "40  305.5929  1.224366e-04 21146229 0.18554043\n",
      "41  307.1633  7.573396e-05 20498757 0.19443847\n",
      "42  303.8172  1.114425e-02 16284839 0.54384184\n",
      "43  301.0634  9.201676e-03 13286885 0.88842481\n",
      "44  299.1847  9.673751e-03  8747997 0.88756078\n",
      "45  300.7429  2.682244e-03 15490513 0.58060120\n",
      "46  297.5355  4.922708e-04 15745141 0.16819911\n",
      "47  294.0807  6.311163e-06 14635717 0.16140810\n",
      "48  290.2678  5.048931e-06 13324318 0.17570256\n",
      "49  289.2741  2.802157e-04 12777628 0.32953100\n",
      "50  293.9909  1.161254e-04 16377805 0.12038921\n",
      "51  299.3732  5.680047e-04 18452678 0.20709581\n",
      "52  303.1795  1.199121e-04 21611883 0.28585937\n",
      "53  306.8916  5.553824e-05 21310771 0.13818528\n",
      "54  306.8450  6.330097e-03 17098087 0.41464596\n",
      "55  299.9821  1.822790e-02 10295102 0.93227834\n",
      "56  300.3603  3.825827e-03 12910084 0.78352801\n",
      "57  300.0032  5.354391e-03 13165124 0.63677859\n",
      "58  297.8704  2.398242e-04 16233419 0.17735484\n",
      "59  293.7780 -6.938894e-18 15124818 0.09069371\n",
      "60  289.0766  2.145796e-04 13413994 0.14317243\n",
      "61  290.1547 -6.938894e-18 14614327 0.09912183\n",
      "62  296.5506  6.311163e-06 16974681 0.12705895\n",
      "63  296.7115  2.515630e-03 17776822 0.22950007\n",
      "64  303.8117  9.971638e-05 21206698 0.20861166\n",
      "65  306.9437  4.998441e-04 20583085 0.21299247\n",
      "66  305.2890  2.813517e-03 16881303 0.58392091\n",
      "67  299.8967  1.741250e-02  8126028 0.92529028\n",
      "68  299.2934  9.143614e-03 10514765 0.89639818\n",
      "69  300.2405  3.467353e-03 15694956 0.47340030\n",
      "70  298.8686  3.546874e-04 15898165 0.15282839\n",
      "71  294.5288  5.755781e-04 14083268 0.15555692\n",
      "72  290.9942  7.573396e-06 13010455 0.11503826\n",
      "73  289.9750 -6.938894e-18 14303754 0.28390392\n",
      "74  293.6094  9.618213e-04 15472824 0.21338659\n",
      "75  297.5821  1.123387e-04 19734048 0.05472259\n",
      "76  304.8531  3.660475e-05 21080412 0.12657387\n",
      "77  306.5777  3.622608e-04 20532077 0.16592533\n",
      "78  305.3655  2.521941e-03 16309109 0.61669358\n",
      "79  300.3780  7.512809e-03 10353103 0.91508861\n",
      "80  300.0065  9.927460e-03 11574415 0.88862187\n",
      "81  300.2139  4.090896e-03 13466236 0.70018659\n",
      "82  297.7274 -6.938894e-18 17135520 0.21512982\n",
      "83  294.1007  3.786698e-06 14715931 0.08294772\n",
      "84  290.3654  7.068503e-05 12535751 0.19683351\n",
      "85  289.3195  6.311163e-06 13834398 0.28235775\n",
      "86  291.3347  2.524465e-06 16848806 0.09252789\n",
      "87  300.1984  3.458518e-04 18991553 0.22464935\n",
      "88  304.0712  1.199121e-04 21819206 0.09709060\n",
      "89  306.8494  2.044817e-04 20924920 0.15202499\n",
      "90  301.2852  2.326042e-02 11249034 0.82706321\n",
      "91  300.2882  9.091862e-03 10724968 0.93761413\n",
      "92  299.9954  8.363554e-03 11249034 0.90174913\n",
      "93  300.2583  7.231331e-03 14845097 0.47749310\n",
      "94  298.6557  2.574955e-04 16570730 0.09078466\n",
      "95  294.0985  5.175154e-05 13854143 0.26621395\n",
      "96  291.7617 -6.938894e-18 12907616 0.26616848\n",
      "97  291.0463  4.771240e-04 12642703 0.37935698\n",
      "98  294.2061  2.903135e-05 17084512 0.06557608\n",
      "99  299.5085  4.165368e-05 19329275 0.20491299\n",
      "100 303.9337  9.340522e-05 21611883 0.14203554\n",
      "101 307.3751  2.398242e-04 21017064 0.19372602\n",
      "102 307.6114  2.049866e-03 18486821 0.33413918\n",
      "103 301.0978  9.460434e-03 11796547 0.83715877\n",
      "104 300.8527  6.213972e-03 12625015 0.89905092\n",
      "105 300.8461  4.720750e-03 14740201 0.48113113\n",
      "106 297.9458  4.650065e-03 14907211 0.23374445\n",
      "107 293.6626  3.837187e-03 12420983 0.31881394\n",
      "108 290.8012  3.105092e-04 12190625 0.29866830\n",
      "109 287.9587  5.680047e-05 14344067 0.13747283\n",
      "110 293.4419  5.250888e-04 15733623 0.25719465\n",
      "111 300.9969  3.786698e-06 19503278 0.16957853\n",
      "112 306.6143 -6.938894e-18 21683047 0.17136723\n",
      "113 308.8846  2.524465e-06 21067660 0.20470077\n",
      "114 307.1810  1.197859e-03 18873905 0.46827673\n",
      "115 301.5048  1.046012e-02 12484743 0.89303299\n",
      "116 300.4224  9.801237e-03 11353929 0.91408815\n",
      "117 299.7825  6.780714e-03 12400827 0.71057016\n",
      "118 298.6313  8.128779e-04 14959042 0.25385978\n",
      "119 295.1854  1.355638e-03 12016210 0.39907819\n",
      "120 289.6145  9.214299e-05 12560844 0.15185825\n"
     ]
    }
   ],
   "source": [
    "# Specify the path to the NetCDF file and the file name (this is where the downloaded file is located)\n",
    "file_path1 = \"E:/AA_temperature.nc\"\n",
    "file_path2 = \"E:/AA_precipitation.nc\"\n",
    "file_path3 = \"E:/AA_solarradiation.nc\"\n",
    "file_path4 = \"E:/AA_cloudcover.nc\"\n",
    "\n",
    "# define a function to get the grid data\n",
    "gdpt = function(filepath,xx,yy)\n",
    "{\n",
    "    # Open the NetCDF file\n",
    "    nc = nc_open(filepath)\n",
    "\n",
    "    # Retrieve data, units are kept as original from era5 data, e.g., temperature in Kelvin\n",
    "    data = ncvar_get(nc, names(nc$var)[1])\n",
    "    datapoint = data[xx, yy,]\n",
    "    return(datapoint)\n",
    "}\n",
    "\n",
    "TA = gdpt(file_path1,30,120)\n",
    "PR = gdpt(file_path2,30,120)\n",
    "RN = gdpt(file_path3,30,120)\n",
    "CC = gdpt(file_path4,30,120)\n",
    "\n",
    "# make a dataframe\n",
    "data = data.frame(TA,PR,RN,CC)\n",
    "# print to see the monthly value:\n",
    "print(data)"
   ]
  },
  {
   "cell_type": "code",
   "execution_count": 4,
   "id": "f1e4fe02",
   "metadata": {},
   "outputs": [
    {
     "name": "stdout",
     "output_type": "stream",
     "text": [
      "   TA_annual  PR_annual RN_annual CC_annual\n",
      "1   298.5431 0.03052205 187355098  4.229514\n",
      "2   298.9462 0.03440468 192864372  3.903106\n",
      "3   298.1845 0.04330089 183646323  4.633579\n",
      "4   298.8027 0.02602850 189063454  4.046490\n",
      "5   298.2300 0.03742015 188960204  4.381159\n",
      "6   298.2739 0.03416485 185235798  4.522482\n",
      "7   298.3114 0.04818321 175132102  4.946056\n",
      "8   298.5952 0.02383979 189825695  4.182356\n",
      "9   298.8378 0.01697072 194518430  4.104547\n",
      "10  298.3117 0.05561776 179847462  4.596001\n"
     ]
    }
   ],
   "source": [
    "# calculate the annual values\n",
    "TA_annual = apply(matrix(TA, nrow = 12, byrow = TRUE), 2, mean)\n",
    "PR_annual = apply(matrix(PR, nrow = 12, byrow = TRUE), 2, sum)\n",
    "RN_annual = apply(matrix(RN, nrow = 12, byrow = TRUE), 2, sum)\n",
    "CC_annual = apply(matrix(CC, nrow = 12, byrow = TRUE), 2, sum)\n",
    "\n",
    "data_annual = data.frame(TA_annual,PR_annual,RN_annual,CC_annual)\n",
    "# print to see the annual value:\n",
    "print(data_annual)"
   ]
  },
  {
   "cell_type": "code",
   "execution_count": 5,
   "id": "95ee6b27",
   "metadata": {},
   "outputs": [
    {
     "name": "stdout",
     "output_type": "stream",
     "text": [
      "           TA_annual  PR_annual  RN_annual  CC_annual\n",
      "TA_annual  1.0000000 -0.6706850  0.7112301 -0.8543402\n",
      "PR_annual -0.6706850  1.0000000 -0.8345066  0.7452981\n",
      "RN_annual  0.7112301 -0.8345066  1.0000000 -0.9209281\n",
      "CC_annual -0.8543402  0.7452981 -0.9209281  1.0000000\n"
     ]
    },
    {
     "data": {
      "image/png": "[encoded data removed]",
      "text/plain": [
       "Plot with title \"\""
      ]
     },
     "metadata": {
      "image/png": {
       "height": 420,
       "width": 420
      }
     },
     "output_type": "display_data"
    }
   ],
   "source": [
    "# 01 - Correlation Coefficient\n",
    "\n",
    "# Compute the correlation matrix between pairs of variables\n",
    "correlation_matrix = cor(data_annual)\n",
    "\n",
    "# Print the correlation matrix\n",
    "print(correlation_matrix)\n",
    "\n",
    "# Plot a heatmap of the correlation matrix\n",
    "corrplot(correlation_matrix, method = \"color\", type = \"upper\", \n",
    "         addCoef.col = \"black\", tl.col = \"black\", tl.srt = 45)"
   ]
  },
  {
   "cell_type": "code",
   "execution_count": 6,
   "id": "a4e37986",
   "metadata": {},
   "outputs": [
    {
     "data": {
      "image/png": "[encoded data removed]",
      "text/plain": [
       "Plot with title \"Simple Linear Regression\""
      ]
     },
     "metadata": {
      "image/png": {
       "height": 420,
       "width": 420
      }
     },
     "output_type": "display_data"
    }
   ],
   "source": [
    "# 02 - linear Regression\n",
    "\n",
    "# Perform simple linear regression on the TA and PR\n",
    "lm_model = lm(data_annual[,'TA_annual'] ~ data_annual[,'RN_annual'])\n",
    "\n",
    "coef = coef(lm_model)\n",
    "\n",
    "# Plot the data points\n",
    "plot(data_annual[,'RN_annual'], data_annual[,'TA_annual'], main = \"Simple Linear Regression\", \n",
    "     xlab = \"Independent Variable (RN)\", ylab = \"Dependent Variable (TA)\", pch=20)\n",
    "\n",
    "# Get the coefficients of the regression model\n",
    "lines(data_annual[,'RN_annual'], predict(lm_model), col = \"red\")\n",
    "\n",
    "# Annotate the plot with the regression equation\n",
    "equation = paste(\"TA = \", round(coef[1], 2), \" + \", round(coef[2], 10), \" * RN\", sep = \" \")\n",
    "text(min(data_annual[,'RN_annual']), max(data_annual[,'TA_annual']), as.character(equation), pos = 4, col = \"blue\")\n"
   ]
  },
  {
   "cell_type": "code",
   "execution_count": 10,
   "id": "f13114c1",
   "metadata": {},
   "outputs": [
    {
     "name": "stderr",
     "output_type": "stream",
     "text": [
      "Installing package into 'C:/Users/35953/AppData/Local/R/win-library/4.2'\n",
      "(as 'lib' is unspecified)\n",
      "\n"
     ]
    },
    {
     "name": "stdout",
     "output_type": "stream",
     "text": [
      "package 'openxlsx' successfully unpacked and MD5 sums checked\n",
      "\n",
      "The downloaded binary packages are in\n",
      "\tC:\\Users\\35953\\AppData\\Local\\Temp\\RtmpYVCvI7\\downloaded_packages\n"
     ]
    },
    {
     "name": "stderr",
     "output_type": "stream",
     "text": [
      "Installing package into 'C:/Users/35953/AppData/Local/R/win-library/4.2'\n",
      "(as 'lib' is unspecified)\n",
      "\n"
     ]
    },
    {
     "name": "stdout",
     "output_type": "stream",
     "text": [
      "package 'semPlot' successfully unpacked and MD5 sums checked\n",
      "\n",
      "The downloaded binary packages are in\n",
      "\tC:\\Users\\35953\\AppData\\Local\\Temp\\RtmpYVCvI7\\downloaded_packages\n"
     ]
    },
    {
     "name": "stderr",
     "output_type": "stream",
     "text": [
      "Warning message:\n",
      "\"package 'semPlot' was built under R version 4.2.3\"\n"
     ]
    }
   ],
   "source": [
    "#install packages for path analysis (this process can be very slow)\n",
    "install.packages(\"openxlsx\")\n",
    "install.packages(\"semPlot\", dependencies = TRUE, INSTALL_opts = '--no-lock')\n",
    "library(semPlot)"
   ]
  },
  {
   "cell_type": "code",
   "execution_count": 11,
   "id": "e861a907",
   "metadata": {},
   "outputs": [
    {
     "name": "stdout",
     "output_type": "stream",
     "text": [
      "lavaan 0.6.17 ended normally after 17 iterations\n",
      "\n",
      "  Estimator                                         ML\n",
      "  Optimization method                           NLMINB\n",
      "  Number of model parameters                         6\n",
      "\n",
      "  Number of observations                            10\n",
      "\n",
      "Model Test User Model:\n",
      "                                                      \n",
      "  Test statistic                                 0.000\n",
      "  Degrees of freedom                                 0\n",
      "\n",
      "Model Test Baseline Model:\n",
      "\n",
      "  Test statistic                                33.434\n",
      "  Degrees of freedom                                 3\n",
      "  P-value                                        0.000\n",
      "\n",
      "User Model versus Baseline Model:\n",
      "\n",
      "  Comparative Fit Index (CFI)                    1.000\n",
      "  Tucker-Lewis Index (TLI)                       1.000\n",
      "\n",
      "Loglikelihood and Information Criteria:\n",
      "\n",
      "  Loglikelihood user model (H0)                -24.271\n",
      "  Loglikelihood unrestricted model (H1)        -24.271\n",
      "                                                      \n",
      "  Akaike (AIC)                                  60.542\n",
      "  Bayesian (BIC)                                62.357\n",
      "  Sample-size adjusted Bayesian (SABIC)         44.383\n",
      "\n",
      "Root Mean Square Error of Approximation:\n",
      "\n",
      "  RMSEA                                          0.000\n",
      "  90 Percent confidence interval - lower         0.000\n",
      "  90 Percent confidence interval - upper         0.000\n",
      "  P-value H_0: RMSEA <= 0.050                       NA\n",
      "  P-value H_0: RMSEA >= 0.080                       NA\n",
      "\n",
      "Standardized Root Mean Square Residual:\n",
      "\n",
      "  SRMR                                           0.000\n",
      "\n",
      "Parameter Estimates:\n",
      "\n",
      "  Standard errors                             Standard\n",
      "  Information                                 Expected\n",
      "  Information saturated (h1) model          Structured\n",
      "\n",
      "Regressions:\n",
      "                   Estimate  Std.Err  z-value  P(>|z|)   Std.lv  Std.all\n",
      "  y ~                                                                   \n",
      "    x1               -0.497    0.391   -1.271    0.204   -0.497   -0.497\n",
      "    x2               -1.312    0.391   -3.354    0.001   -1.312   -1.312\n",
      "\n",
      "Covariances:\n",
      "                   Estimate  Std.Err  z-value  P(>|z|)   Std.lv  Std.all\n",
      "  x1 ~~                                                                 \n",
      "    x2               -0.829    0.387   -2.142    0.032   -0.829   -0.921\n",
      "\n",
      "Variances:\n",
      "                   Estimate  Std.Err  z-value  P(>|z|)   Std.lv  Std.all\n",
      "   .y                 0.209    0.094    2.236    0.025    0.209    0.233\n",
      "    x1                0.900    0.402    2.236    0.025    0.900    1.000\n",
      "    x2                0.900    0.402    2.236    0.025    0.900    1.000\n",
      "\n",
      "R-Square:\n",
      "                   Estimate\n",
      "    y                 0.767\n",
      "\n"
     ]
    },
    {
     "data": {
      "image/png": "[encoded data removed]",
      "text/plain": [
       "plot without title"
      ]
     },
     "metadata": {
      "image/png": {
       "height": 420,
       "width": 420
      }
     },
     "output_type": "display_data"
    }
   ],
   "source": [
    "# 03 - Path Analysis\n",
    "\n",
    "patha = function(dfs)\n",
    "{\n",
    "  model = 'y ~ x1 + x2\n",
    "           x1~~x2'\n",
    "  fit <- cfa(model, data = dfs)\n",
    "  summary(fit, fit.measures = TRUE, standardized=T, rsquare=T)\n",
    "  semPaths(fit, 'std', layout = 'circle')\n",
    "  print(summary(fit, fit.measures = TRUE, standardized=T, rsquare=T))\n",
    "}\n",
    "\n",
    "dfs = data.frame(y = scale(data_annual[,'TA_annual']), x1 = scale(data_annual[,'RN_annual']), x2 = scale(data_annual[,'CC_annual']))\n",
    "patha(dfs)\n"
   ]
  },
  {
   "cell_type": "markdown",
   "id": "1f2507f2",
   "metadata": {},
   "source": []
  }
 ],
 "metadata": {
  "kernelspec": {
   "display_name": "R",
   "language": "R",
   "name": "ir"
  },
  "language_info": {
   "codemirror_mode": "r",
   "file_extension": ".r",
   "mimetype": "text/x-r-source",
   "name": "R",
   "pygments_lexer": "r",
   "version": "4.2.1"
  }
 },
 "nbformat": 4,
 "nbformat_minor": 5
}
