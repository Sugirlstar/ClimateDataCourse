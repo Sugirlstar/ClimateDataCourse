{
 "cells": [
  {
   "cell_type": "code",
   "execution_count": null,
   "metadata": {},
   "outputs": [],
   "source": [
    "# load libraries\n",
    "library(ncdf4)\n",
    "library(raster)"
   ]
  },
  {
   "cell_type": "code",
   "execution_count": null,
   "metadata": {},
   "outputs": [],
   "source": [
    "# Specify the path to the NetCDF file (this is where the downloaded file is located)\n",
    "file_path = \"D:/temp_1980-1984_china_era5.nc\"\n",
    "\n",
    "# Open the NetCDF file\n",
    "nc = nc_open(file_path)\n",
    "\n",
    "# Display the names of variables contained in the file\n",
    "print(names(nc$var))\n",
    "\n",
    "# Select the variable to plot (assuming the variable name is \"t2m\", please modify according to the actual file content)\n",
    "var_name = \"t2m\""
   ]
  },
  {
   "cell_type": "code",
   "execution_count": null,
   "metadata": {},
   "outputs": [],
   "source": [
    "##### 01 Plotting annual variation graph -------------\n",
    "# Select the grid point location to plot (assuming x is 30, y is 120, modify as needed)\n",
    "# If calculating regional average, should add a loop to compute the average of all grid points annually\n",
    "xx = 30\n",
    "yy = 120\n",
    "\n",
    "# Retrieve annual change data, units are kept as original from era5 data, e.g., temperature in Kelvin\n",
    "data = ncvar_get(nc, var_name)\n",
    "datapoint = data[, xx, yy]\n",
    "\n",
    "# Close the NetCDF file\n",
    "nc_close(nc)\n",
    "\n",
    "# Plot the annual variation for a specific grid point, parameter 'type' indicates line style, 'xlab' and 'ylab' are the names of the axes, 'main' is the title of the graph\n",
    "plot(datapoint, type = \"l\", \n",
    "xlab = \"Year\", ylab = \"2m temperature (unit:K)\", \n",
    "main = paste(\"Grid Point at x:\", xx, \"y:\", yy))"
   ]
  },
  {
   "cell_type": "code",
   "execution_count": null,
   "metadata": {},
   "outputs": [],
   "source": [
    "##### 02 Plotting spatial distribution for a month -------------\n",
    "# Select the year to plot (assuming to plot data from January 1980, modify as needed)\n",
    "\n",
    "file_path = \"D:/temp_1980-1984_china_era5.nc\"\n",
    "\n",
    "# Open the NetCDF file\n",
    "nc = nc_open(file_path)\n",
    "\n",
    "# Load as a raster stack\n",
    "input_nc = file_path\n",
    "rstack = stack(input_nc, varname = names(nc$var) )\n",
    "\n",
    "# Plot the spatial distribution, taking the i-th month as an example\n",
    "# If plotting the spatial distribution of multi-year averages, likewise add a loop to calculate the average for each grid point across years\n",
    "i=1 \n",
    "plot(raster(rstack,i), main=names(rstack)[i])\n"
   ]
  }
 ],
 "metadata": {
  "language_info": {
   "name": "python"
  }
 },
 "nbformat": 4,
 "nbformat_minor": 2
}
